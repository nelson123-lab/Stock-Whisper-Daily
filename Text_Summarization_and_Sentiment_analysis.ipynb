{
  "nbformat": 4,
  "nbformat_minor": 0,
  "metadata": {
    "colab": {
      "provenance": []
    },
    "kernelspec": {
      "name": "python3",
      "display_name": "Python 3"
    },
    "language_info": {
      "name": "python"
    }
  },
  "cells": [
    {
      "cell_type": "code",
      "execution_count": 1,
      "metadata": {
        "id": "b-62wywbAyhp"
      },
      "outputs": [],
      "source": [
        "import pandas as pd\n",
        "import numpy as np\n"
      ]
    },
    {
      "cell_type": "code",
      "source": [
        "data = pd.read_csv('/content/drive/MyDrive/ScrappedNews/Stock_news.csv')\n",
        "data.head()"
      ],
      "metadata": {
        "colab": {
          "base_uri": "https://localhost:8080/",
          "height": 449
        },
        "id": "c17FuhKbB235",
        "outputId": "8977281f-d4dd-4cd1-88d9-78f2c46c9e17"
      },
      "execution_count": 2,
      "outputs": [
        {
          "output_type": "execute_result",
          "data": {
            "text/plain": [
              "   Unnamed: 0                                          newsTitle  \\\n",
              "0           0                       Work is getting really weird   \n",
              "1           1  Roaring Kitty lawsuit, GDP forecasts dip: Mond...   \n",
              "2           2  Here's how you can pay zero federal taxes on a...   \n",
              "3           3               Transcript: Eva Shang, CEO, Legalist   \n",
              "4           4  New twist in clash between US short seller Hin...   \n",
              "\n",
              "              timestamp                                         url_source  \\\n",
              "0  2024-07-01T12:23:51Z  https://www.businessinsider.com/shadow-stand-i...   \n",
              "1  2024-07-01T21:47:31Z  https://finance.yahoo.com/video/roaring-kitty-...   \n",
              "2  2024-07-01T10:50:00Z  https://finance.yahoo.com/news/heres-pay-zero-...   \n",
              "3  2024-07-02T12:00:05Z  https://ritholtz.com/2024/07/transcript-eva-sh...   \n",
              "4  2024-07-02T15:59:13Z  https://www.aljazeera.com/economy/2024/7/2/new...   \n",
              "\n",
              "                                             content               source  \\\n",
              "0  Lorenzo Matteucci for BI\\r\\n<ul><li>This post ...     Business Insider   \n",
              "1  Yahoo Finance Reporter Josh Schafer joins Aski...  Yahoo Entertainment   \n",
              "2  Here's how you can pay zero federal taxes on a...  Yahoo Entertainment   \n",
              "3  The transcript from this weeks, MiB: Eva Shang...         Ritholtz.com   \n",
              "4  Hindenburg Research has denied allegations by ...   Al Jazeera English   \n",
              "\n",
              "            author                                         urlToImage  \n",
              "0  Dan DeFrancesco  https://i.insider.com/6647bce220abc1efe8fb4f96...  \n",
              "1      Josh Lipton  https://s.yimg.com/ny/api/res/1.2/X35nbQ9PzBBH...  \n",
              "2   Christy Bieber  https://media.zenfs.com/en/moneywise_327/d6d5b...  \n",
              "3   Barry Ritholtz  https://ritholtz.com/wp-content/uploads/2023/0...  \n",
              "4       Al Jazeera  https://www.aljazeera.com/wp-content/uploads/2...  "
            ],
            "text/html": [
              "\n",
              "  <div id=\"df-4de461ef-eb68-484e-8007-a57a4974d59f\" class=\"colab-df-container\">\n",
              "    <div>\n",
              "<style scoped>\n",
              "    .dataframe tbody tr th:only-of-type {\n",
              "        vertical-align: middle;\n",
              "    }\n",
              "\n",
              "    .dataframe tbody tr th {\n",
              "        vertical-align: top;\n",
              "    }\n",
              "\n",
              "    .dataframe thead th {\n",
              "        text-align: right;\n",
              "    }\n",
              "</style>\n",
              "<table border=\"1\" class=\"dataframe\">\n",
              "  <thead>\n",
              "    <tr style=\"text-align: right;\">\n",
              "      <th></th>\n",
              "      <th>Unnamed: 0</th>\n",
              "      <th>newsTitle</th>\n",
              "      <th>timestamp</th>\n",
              "      <th>url_source</th>\n",
              "      <th>content</th>\n",
              "      <th>source</th>\n",
              "      <th>author</th>\n",
              "      <th>urlToImage</th>\n",
              "    </tr>\n",
              "  </thead>\n",
              "  <tbody>\n",
              "    <tr>\n",
              "      <th>0</th>\n",
              "      <td>0</td>\n",
              "      <td>Work is getting really weird</td>\n",
              "      <td>2024-07-01T12:23:51Z</td>\n",
              "      <td>https://www.businessinsider.com/shadow-stand-i...</td>\n",
              "      <td>Lorenzo Matteucci for BI\\r\\n&lt;ul&gt;&lt;li&gt;This post ...</td>\n",
              "      <td>Business Insider</td>\n",
              "      <td>Dan DeFrancesco</td>\n",
              "      <td>https://i.insider.com/6647bce220abc1efe8fb4f96...</td>\n",
              "    </tr>\n",
              "    <tr>\n",
              "      <th>1</th>\n",
              "      <td>1</td>\n",
              "      <td>Roaring Kitty lawsuit, GDP forecasts dip: Mond...</td>\n",
              "      <td>2024-07-01T21:47:31Z</td>\n",
              "      <td>https://finance.yahoo.com/video/roaring-kitty-...</td>\n",
              "      <td>Yahoo Finance Reporter Josh Schafer joins Aski...</td>\n",
              "      <td>Yahoo Entertainment</td>\n",
              "      <td>Josh Lipton</td>\n",
              "      <td>https://s.yimg.com/ny/api/res/1.2/X35nbQ9PzBBH...</td>\n",
              "    </tr>\n",
              "    <tr>\n",
              "      <th>2</th>\n",
              "      <td>2</td>\n",
              "      <td>Here's how you can pay zero federal taxes on a...</td>\n",
              "      <td>2024-07-01T10:50:00Z</td>\n",
              "      <td>https://finance.yahoo.com/news/heres-pay-zero-...</td>\n",
              "      <td>Here's how you can pay zero federal taxes on a...</td>\n",
              "      <td>Yahoo Entertainment</td>\n",
              "      <td>Christy Bieber</td>\n",
              "      <td>https://media.zenfs.com/en/moneywise_327/d6d5b...</td>\n",
              "    </tr>\n",
              "    <tr>\n",
              "      <th>3</th>\n",
              "      <td>3</td>\n",
              "      <td>Transcript: Eva Shang, CEO, Legalist</td>\n",
              "      <td>2024-07-02T12:00:05Z</td>\n",
              "      <td>https://ritholtz.com/2024/07/transcript-eva-sh...</td>\n",
              "      <td>The transcript from this weeks, MiB: Eva Shang...</td>\n",
              "      <td>Ritholtz.com</td>\n",
              "      <td>Barry Ritholtz</td>\n",
              "      <td>https://ritholtz.com/wp-content/uploads/2023/0...</td>\n",
              "    </tr>\n",
              "    <tr>\n",
              "      <th>4</th>\n",
              "      <td>4</td>\n",
              "      <td>New twist in clash between US short seller Hin...</td>\n",
              "      <td>2024-07-02T15:59:13Z</td>\n",
              "      <td>https://www.aljazeera.com/economy/2024/7/2/new...</td>\n",
              "      <td>Hindenburg Research has denied allegations by ...</td>\n",
              "      <td>Al Jazeera English</td>\n",
              "      <td>Al Jazeera</td>\n",
              "      <td>https://www.aljazeera.com/wp-content/uploads/2...</td>\n",
              "    </tr>\n",
              "  </tbody>\n",
              "</table>\n",
              "</div>\n",
              "    <div class=\"colab-df-buttons\">\n",
              "\n",
              "  <div class=\"colab-df-container\">\n",
              "    <button class=\"colab-df-convert\" onclick=\"convertToInteractive('df-4de461ef-eb68-484e-8007-a57a4974d59f')\"\n",
              "            title=\"Convert this dataframe to an interactive table.\"\n",
              "            style=\"display:none;\">\n",
              "\n",
              "  <svg xmlns=\"http://www.w3.org/2000/svg\" height=\"24px\" viewBox=\"0 -960 960 960\">\n",
              "    <path d=\"M120-120v-720h720v720H120Zm60-500h600v-160H180v160Zm220 220h160v-160H400v160Zm0 220h160v-160H400v160ZM180-400h160v-160H180v160Zm440 0h160v-160H620v160ZM180-180h160v-160H180v160Zm440 0h160v-160H620v160Z\"/>\n",
              "  </svg>\n",
              "    </button>\n",
              "\n",
              "  <style>\n",
              "    .colab-df-container {\n",
              "      display:flex;\n",
              "      gap: 12px;\n",
              "    }\n",
              "\n",
              "    .colab-df-convert {\n",
              "      background-color: #E8F0FE;\n",
              "      border: none;\n",
              "      border-radius: 50%;\n",
              "      cursor: pointer;\n",
              "      display: none;\n",
              "      fill: #1967D2;\n",
              "      height: 32px;\n",
              "      padding: 0 0 0 0;\n",
              "      width: 32px;\n",
              "    }\n",
              "\n",
              "    .colab-df-convert:hover {\n",
              "      background-color: #E2EBFA;\n",
              "      box-shadow: 0px 1px 2px rgba(60, 64, 67, 0.3), 0px 1px 3px 1px rgba(60, 64, 67, 0.15);\n",
              "      fill: #174EA6;\n",
              "    }\n",
              "\n",
              "    .colab-df-buttons div {\n",
              "      margin-bottom: 4px;\n",
              "    }\n",
              "\n",
              "    [theme=dark] .colab-df-convert {\n",
              "      background-color: #3B4455;\n",
              "      fill: #D2E3FC;\n",
              "    }\n",
              "\n",
              "    [theme=dark] .colab-df-convert:hover {\n",
              "      background-color: #434B5C;\n",
              "      box-shadow: 0px 1px 3px 1px rgba(0, 0, 0, 0.15);\n",
              "      filter: drop-shadow(0px 1px 2px rgba(0, 0, 0, 0.3));\n",
              "      fill: #FFFFFF;\n",
              "    }\n",
              "  </style>\n",
              "\n",
              "    <script>\n",
              "      const buttonEl =\n",
              "        document.querySelector('#df-4de461ef-eb68-484e-8007-a57a4974d59f button.colab-df-convert');\n",
              "      buttonEl.style.display =\n",
              "        google.colab.kernel.accessAllowed ? 'block' : 'none';\n",
              "\n",
              "      async function convertToInteractive(key) {\n",
              "        const element = document.querySelector('#df-4de461ef-eb68-484e-8007-a57a4974d59f');\n",
              "        const dataTable =\n",
              "          await google.colab.kernel.invokeFunction('convertToInteractive',\n",
              "                                                    [key], {});\n",
              "        if (!dataTable) return;\n",
              "\n",
              "        const docLinkHtml = 'Like what you see? Visit the ' +\n",
              "          '<a target=\"_blank\" href=https://colab.research.google.com/notebooks/data_table.ipynb>data table notebook</a>'\n",
              "          + ' to learn more about interactive tables.';\n",
              "        element.innerHTML = '';\n",
              "        dataTable['output_type'] = 'display_data';\n",
              "        await google.colab.output.renderOutput(dataTable, element);\n",
              "        const docLink = document.createElement('div');\n",
              "        docLink.innerHTML = docLinkHtml;\n",
              "        element.appendChild(docLink);\n",
              "      }\n",
              "    </script>\n",
              "  </div>\n",
              "\n",
              "\n",
              "<div id=\"df-16dec573-ed16-4f35-bbc0-760af8d19277\">\n",
              "  <button class=\"colab-df-quickchart\" onclick=\"quickchart('df-16dec573-ed16-4f35-bbc0-760af8d19277')\"\n",
              "            title=\"Suggest charts\"\n",
              "            style=\"display:none;\">\n",
              "\n",
              "<svg xmlns=\"http://www.w3.org/2000/svg\" height=\"24px\"viewBox=\"0 0 24 24\"\n",
              "     width=\"24px\">\n",
              "    <g>\n",
              "        <path d=\"M19 3H5c-1.1 0-2 .9-2 2v14c0 1.1.9 2 2 2h14c1.1 0 2-.9 2-2V5c0-1.1-.9-2-2-2zM9 17H7v-7h2v7zm4 0h-2V7h2v10zm4 0h-2v-4h2v4z\"/>\n",
              "    </g>\n",
              "</svg>\n",
              "  </button>\n",
              "\n",
              "<style>\n",
              "  .colab-df-quickchart {\n",
              "      --bg-color: #E8F0FE;\n",
              "      --fill-color: #1967D2;\n",
              "      --hover-bg-color: #E2EBFA;\n",
              "      --hover-fill-color: #174EA6;\n",
              "      --disabled-fill-color: #AAA;\n",
              "      --disabled-bg-color: #DDD;\n",
              "  }\n",
              "\n",
              "  [theme=dark] .colab-df-quickchart {\n",
              "      --bg-color: #3B4455;\n",
              "      --fill-color: #D2E3FC;\n",
              "      --hover-bg-color: #434B5C;\n",
              "      --hover-fill-color: #FFFFFF;\n",
              "      --disabled-bg-color: #3B4455;\n",
              "      --disabled-fill-color: #666;\n",
              "  }\n",
              "\n",
              "  .colab-df-quickchart {\n",
              "    background-color: var(--bg-color);\n",
              "    border: none;\n",
              "    border-radius: 50%;\n",
              "    cursor: pointer;\n",
              "    display: none;\n",
              "    fill: var(--fill-color);\n",
              "    height: 32px;\n",
              "    padding: 0;\n",
              "    width: 32px;\n",
              "  }\n",
              "\n",
              "  .colab-df-quickchart:hover {\n",
              "    background-color: var(--hover-bg-color);\n",
              "    box-shadow: 0 1px 2px rgba(60, 64, 67, 0.3), 0 1px 3px 1px rgba(60, 64, 67, 0.15);\n",
              "    fill: var(--button-hover-fill-color);\n",
              "  }\n",
              "\n",
              "  .colab-df-quickchart-complete:disabled,\n",
              "  .colab-df-quickchart-complete:disabled:hover {\n",
              "    background-color: var(--disabled-bg-color);\n",
              "    fill: var(--disabled-fill-color);\n",
              "    box-shadow: none;\n",
              "  }\n",
              "\n",
              "  .colab-df-spinner {\n",
              "    border: 2px solid var(--fill-color);\n",
              "    border-color: transparent;\n",
              "    border-bottom-color: var(--fill-color);\n",
              "    animation:\n",
              "      spin 1s steps(1) infinite;\n",
              "  }\n",
              "\n",
              "  @keyframes spin {\n",
              "    0% {\n",
              "      border-color: transparent;\n",
              "      border-bottom-color: var(--fill-color);\n",
              "      border-left-color: var(--fill-color);\n",
              "    }\n",
              "    20% {\n",
              "      border-color: transparent;\n",
              "      border-left-color: var(--fill-color);\n",
              "      border-top-color: var(--fill-color);\n",
              "    }\n",
              "    30% {\n",
              "      border-color: transparent;\n",
              "      border-left-color: var(--fill-color);\n",
              "      border-top-color: var(--fill-color);\n",
              "      border-right-color: var(--fill-color);\n",
              "    }\n",
              "    40% {\n",
              "      border-color: transparent;\n",
              "      border-right-color: var(--fill-color);\n",
              "      border-top-color: var(--fill-color);\n",
              "    }\n",
              "    60% {\n",
              "      border-color: transparent;\n",
              "      border-right-color: var(--fill-color);\n",
              "    }\n",
              "    80% {\n",
              "      border-color: transparent;\n",
              "      border-right-color: var(--fill-color);\n",
              "      border-bottom-color: var(--fill-color);\n",
              "    }\n",
              "    90% {\n",
              "      border-color: transparent;\n",
              "      border-bottom-color: var(--fill-color);\n",
              "    }\n",
              "  }\n",
              "</style>\n",
              "\n",
              "  <script>\n",
              "    async function quickchart(key) {\n",
              "      const quickchartButtonEl =\n",
              "        document.querySelector('#' + key + ' button');\n",
              "      quickchartButtonEl.disabled = true;  // To prevent multiple clicks.\n",
              "      quickchartButtonEl.classList.add('colab-df-spinner');\n",
              "      try {\n",
              "        const charts = await google.colab.kernel.invokeFunction(\n",
              "            'suggestCharts', [key], {});\n",
              "      } catch (error) {\n",
              "        console.error('Error during call to suggestCharts:', error);\n",
              "      }\n",
              "      quickchartButtonEl.classList.remove('colab-df-spinner');\n",
              "      quickchartButtonEl.classList.add('colab-df-quickchart-complete');\n",
              "    }\n",
              "    (() => {\n",
              "      let quickchartButtonEl =\n",
              "        document.querySelector('#df-16dec573-ed16-4f35-bbc0-760af8d19277 button');\n",
              "      quickchartButtonEl.style.display =\n",
              "        google.colab.kernel.accessAllowed ? 'block' : 'none';\n",
              "    })();\n",
              "  </script>\n",
              "</div>\n",
              "\n",
              "    </div>\n",
              "  </div>\n"
            ],
            "application/vnd.google.colaboratory.intrinsic+json": {
              "type": "dataframe",
              "variable_name": "data",
              "summary": "{\n  \"name\": \"data\",\n  \"rows\": 96,\n  \"fields\": [\n    {\n      \"column\": \"Unnamed: 0\",\n      \"properties\": {\n        \"dtype\": \"number\",\n        \"std\": 27,\n        \"min\": 0,\n        \"max\": 95,\n        \"num_unique_values\": 96,\n        \"samples\": [\n          80,\n          77,\n          73\n        ],\n        \"semantic_type\": \"\",\n        \"description\": \"\"\n      }\n    },\n    {\n      \"column\": \"newsTitle\",\n      \"properties\": {\n        \"dtype\": \"string\",\n        \"num_unique_values\": 96,\n        \"samples\": [\n          \"Grasim Industries Share Price Today Live Updates: Grasim Industries Closes at Rs 2670.45 with 9.43% 1-Month Return\",\n          \"UPL Stocks Live Updates: UPL Closes at Rs 570.85 with 12.2% Monthly Returns\",\n          \"UltraTech Cement Stocks Live Updates: UltraTech Cement Closes at Rs 11,667.90 with Impressive 1-Month Return of 17.67%\"\n        ],\n        \"semantic_type\": \"\",\n        \"description\": \"\"\n      }\n    },\n    {\n      \"column\": \"timestamp\",\n      \"properties\": {\n        \"dtype\": \"object\",\n        \"num_unique_values\": 91,\n        \"samples\": [\n          \"2024-07-02T19:00:00Z\",\n          \"2024-07-01T09:36:52Z\",\n          \"2024-07-02T20:49:04Z\"\n        ],\n        \"semantic_type\": \"\",\n        \"description\": \"\"\n      }\n    },\n    {\n      \"column\": \"url_source\",\n      \"properties\": {\n        \"dtype\": \"string\",\n        \"num_unique_values\": 96,\n        \"samples\": [\n          \"https://economictimes.indiatimes.com/markets/stocks/stock-liveblog/grasim-industries-share-price-today-live-updates-01-jul-2024/liveblog/111391750.cms\",\n          \"https://economictimes.indiatimes.com/markets/stocks/stock-liveblog/upl-stocks-live-updates-01-jul-2024/liveblog/111391767.cms\",\n          \"https://economictimes.indiatimes.com/markets/stocks/stock-liveblog/ultratech-cement-stocks-live-updates-01-jul-2024/liveblog/111391802.cms\"\n        ],\n        \"semantic_type\": \"\",\n        \"description\": \"\"\n      }\n    },\n    {\n      \"column\": \"content\",\n      \"properties\": {\n        \"dtype\": \"string\",\n        \"num_unique_values\": 73,\n        \"samples\": [\n          \"Hindenburg Research has denied allegations by Indias securities regulator that it colluded with a United States asset manager to use nonpublic information to set up a short bet against Adani Group la\\u2026 [+3749 chars]\",\n          \"US job openings increase in May; layoffs rise ReutersUS job openings unexpectedly grew in May, reflecting a still resilient labor market CNNJob openings, new hires unexpectedly rise in May as labor d\\u2026 [+132 chars]\",\n          \"Biden Administration Launches Program To Bolster US Chip Workforce\\r\\nThe Biden administration has initiated a new program to develop the U.S\"\n        ],\n        \"semantic_type\": \"\",\n        \"description\": \"\"\n      }\n    },\n    {\n      \"column\": \"source\",\n      \"properties\": {\n        \"dtype\": \"category\",\n        \"num_unique_values\": 28,\n        \"samples\": [\n          \"USA Today\",\n          \"Biztoc.com\",\n          \"CNN\"\n        ],\n        \"semantic_type\": \"\",\n        \"description\": \"\"\n      }\n    },\n    {\n      \"column\": \"author\",\n      \"properties\": {\n        \"dtype\": \"category\",\n        \"num_unique_values\": 47,\n        \"samples\": [\n          \"Michael Snyder\",\n          \"Team BL\",\n          \"Roland Hutchinson\"\n        ],\n        \"semantic_type\": \"\",\n        \"description\": \"\"\n      }\n    },\n    {\n      \"column\": \"urlToImage\",\n      \"properties\": {\n        \"dtype\": \"string\",\n        \"num_unique_values\": 88,\n        \"samples\": [\n          \"https://economictimes.indiatimes.com/thumb/msid-111391737,width-600,resizemode-4,imglength-119775/markets/stocks/stock-liveblog/axis-bank-share-price-live-updates-01-jul-2024.jpg\",\n          \"https://i.insider.com/6647bce220abc1efe8fb4f96?width=1200&format=jpeg\",\n          \"https://media.zenfs.com/en/simply_wall_st__316/82eaaca78b565b1c81994e1687717cec\"\n        ],\n        \"semantic_type\": \"\",\n        \"description\": \"\"\n      }\n    }\n  ]\n}"
            }
          },
          "metadata": {},
          "execution_count": 2
        }
      ]
    },
    {
      "cell_type": "code",
      "source": [
        "text = data.loc[1, 'content']"
      ],
      "metadata": {
        "id": "v-mm_7FyB-d4"
      },
      "execution_count": 15,
      "outputs": []
    },
    {
      "cell_type": "code",
      "source": [
        "print(text)"
      ],
      "metadata": {
        "colab": {
          "base_uri": "https://localhost:8080/"
        },
        "id": "-WZJYNXHGQ_L",
        "outputId": "ebe78389-5c5e-47b8-ff3a-5ec249fc0820"
      },
      "execution_count": 16,
      "outputs": [
        {
          "output_type": "stream",
          "name": "stdout",
          "text": [
            "Yahoo Finance Reporter Josh Schafer joins Asking for a Trend to discuss his key takeaways from the trading day\n"
          ]
        }
      ]
    },
    {
      "cell_type": "code",
      "source": [
        "!pip install vaderSentiment"
      ],
      "metadata": {
        "colab": {
          "base_uri": "https://localhost:8080/"
        },
        "id": "xYZhlSldD-l0",
        "outputId": "a68e8af5-e75b-4195-a1db-75f4a6282379"
      },
      "execution_count": 5,
      "outputs": [
        {
          "output_type": "stream",
          "name": "stdout",
          "text": [
            "Collecting vaderSentiment\n",
            "  Downloading vaderSentiment-3.3.2-py2.py3-none-any.whl (125 kB)\n",
            "\u001b[2K     \u001b[90m━━━━━━━━━━━━━━━━━━━━━━━━━━━━━━━━━━━━━━━━\u001b[0m \u001b[32m126.0/126.0 kB\u001b[0m \u001b[31m1.4 MB/s\u001b[0m eta \u001b[36m0:00:00\u001b[0m\n",
            "\u001b[?25hRequirement already satisfied: requests in /usr/local/lib/python3.10/dist-packages (from vaderSentiment) (2.31.0)\n",
            "Requirement already satisfied: charset-normalizer<4,>=2 in /usr/local/lib/python3.10/dist-packages (from requests->vaderSentiment) (3.3.2)\n",
            "Requirement already satisfied: idna<4,>=2.5 in /usr/local/lib/python3.10/dist-packages (from requests->vaderSentiment) (3.7)\n",
            "Requirement already satisfied: urllib3<3,>=1.21.1 in /usr/local/lib/python3.10/dist-packages (from requests->vaderSentiment) (2.0.7)\n",
            "Requirement already satisfied: certifi>=2017.4.17 in /usr/local/lib/python3.10/dist-packages (from requests->vaderSentiment) (2024.2.2)\n",
            "Installing collected packages: vaderSentiment\n",
            "Successfully installed vaderSentiment-3.3.2\n"
          ]
        }
      ]
    },
    {
      "cell_type": "code",
      "source": [
        "import pandas as pd\n",
        "from vaderSentiment.vaderSentiment import SentimentIntensityAnalyzer\n",
        "\n",
        "# Initialize the VADER sentiment analyzer\n",
        "analyzer = SentimentIntensityAnalyzer()\n"
      ],
      "metadata": {
        "id": "aeLnYbNnCHEu"
      },
      "execution_count": 6,
      "outputs": []
    },
    {
      "cell_type": "code",
      "source": [
        "# Define a function to get sentiment scores\n",
        "def get_sentiment_scores(text):\n",
        "    scores = analyzer.polarity_scores(text)\n",
        "    return scores['compound']"
      ],
      "metadata": {
        "id": "AuCkuQ9cD6Yi"
      },
      "execution_count": 7,
      "outputs": []
    },
    {
      "cell_type": "code",
      "source": [
        "print(get_sentiment_scores(data['content'].head(1)))"
      ],
      "metadata": {
        "colab": {
          "base_uri": "https://localhost:8080/"
        },
        "id": "dAt3xftDEGRU",
        "outputId": "13d5e62c-c0cd-4927-8fec-cfa0cea1ac8b"
      },
      "execution_count": 8,
      "outputs": [
        {
          "output_type": "stream",
          "name": "stdout",
          "text": [
            "0    0.0\n",
            "1    1.0\n",
            "2    0.0\n",
            "3    0.0\n",
            "dtype: float64\n"
          ]
        }
      ]
    },
    {
      "cell_type": "code",
      "source": [
        "import re\n",
        "\n",
        "# Define a function to clean the text\n",
        "def clean(text):\n",
        "# Removes all special characters and numericals leaving the alphabets\n",
        "    text = re.sub('[^A-Za-z]+', ' ', str(text))\n",
        "    return text"
      ],
      "metadata": {
        "id": "m2BR98viEEtX"
      },
      "execution_count": null,
      "outputs": []
    },
    {
      "cell_type": "code",
      "source": [
        "import nltk\n",
        "\n",
        "\"\"\"This punkt tokenizer divides a text into a list of sentences by using an unsupervised algorithm to build a model for abbreviation words,\n",
        "collocations, and words that start sentences. \"\"\"\n",
        "\n",
        "nltk.download('punkt')\n",
        "from nltk.tokenize import word_tokenize\n",
        "from nltk import pos_tag\n",
        "nltk.download('stopwords')\n",
        "from nltk.corpus import stopwords\n",
        "nltk.download('wordnet')\n",
        "from nltk.corpus import wordnet"
      ],
      "metadata": {
        "id": "ML2blmcKE19u"
      },
      "execution_count": null,
      "outputs": []
    },
    {
      "cell_type": "code",
      "source": [
        "nltk.download('omw-1.4')\n",
        "nltk.download('averaged_perceptron_tagger')\n",
        "\n",
        "# POS tagger dictionary\n",
        "pos_dict = {'J':wordnet.ADJ, 'V':wordnet.VERB, 'N':wordnet.NOUN, 'R':wordnet.ADV}\n",
        "def token_stop_pos(text):\n",
        "    tags = pos_tag(word_tokenize(text))\n",
        "    #print(tags)\n",
        "    newlist = []\n",
        "    for word, tag in tags:\n",
        "        if word.lower() not in set(stopwords.words('english')):\n",
        "          newlist.append(tuple([word, pos_dict.get(tag[0])]))\n",
        "          #print(tag[0])\n",
        "          #print(pos_dict.get(tag[0]))\n",
        "    return newlist\n",
        "\n",
        "df['POS tagged'] = df['Cleaned Reviews'].apply(token_stop_pos)\n",
        "df.head()"
      ],
      "metadata": {
        "id": "T9-6thfkFcDS"
      },
      "execution_count": null,
      "outputs": []
    },
    {
      "cell_type": "code",
      "source": [
        "# Obtaining the stem words – Lemmatization\n",
        "\n",
        "from nltk.stem import WordNetLemmatizer\n",
        "wordnet_lemmatizer = WordNetLemmatizer()\n",
        "def lemmatize(pos_data):\n",
        "    lemma_rew = \" \"\n",
        "    for word, pos in pos_data:\n",
        "     if not pos:\n",
        "        lemma = word\n",
        "        lemma_rew = lemma_rew + \" \" + lemma\n",
        "     else:\n",
        "        lemma = wordnet_lemmatizer.lemmatize(word, pos=pos)\n",
        "        lemma_rew = lemma_rew + \" \" + lemma\n",
        "    return lemma_rew\n",
        "\n",
        "df['Lemma'] = df['POS tagged'].apply(lemmatize)\n",
        "df.head()"
      ],
      "metadata": {
        "id": "HNxQkewAFsCd"
      },
      "execution_count": null,
      "outputs": []
    },
    {
      "cell_type": "code",
      "source": [
        "from vaderSentiment.vaderSentiment import SentimentIntensityAnalyzer\n",
        "analyzer = SentimentIntensityAnalyzer()\n",
        "\n",
        "\n",
        "# function to calculate vader sentiment\n",
        "def vadersentimentanalysis(review):\n",
        "    vs = analyzer.polarity_scores(review)\n",
        "    return vs['compound']\n",
        "\n",
        "df['Sentiment'] = df['Lemma'].apply(vadersentimentanalysis)\n",
        "\n",
        "# function to analyse\n",
        "def vader_analysis(compound):\n",
        "    if compound >= 0.5:\n",
        "        return 'Positive'\n",
        "    elif compound < 0 :\n",
        "        return 'Negative'\n",
        "    else:\n",
        "        return 'Neutral'\n",
        "df['Analysis'] = df['Sentiment'].apply(vader_analysis)\n",
        "df.head()"
      ],
      "metadata": {
        "id": "B0606JjGF9Uc"
      },
      "execution_count": null,
      "outputs": []
    }
  ]
}